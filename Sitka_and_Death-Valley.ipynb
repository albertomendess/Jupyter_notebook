{
 "cells": [
  {
   "cell_type": "code",
   "execution_count": 4,
   "metadata": {},
   "outputs": [
    {
     "output_type": "error",
     "ename": "ValueError",
     "evalue": "invalid mode: 'death_valley_2014.csv'",
     "traceback": [
      "\u001b[1;31m---------------------------------------------------------------------------\u001b[0m",
      "\u001b[1;31mValueError\u001b[0m                                Traceback (most recent call last)",
      "\u001b[1;32m<ipython-input-4-7bf173fa950d>\u001b[0m in \u001b[0;36m<module>\u001b[1;34m\u001b[0m\n\u001b[0;32m     10\u001b[0m \u001b[0mfiletwo\u001b[0m \u001b[1;33m=\u001b[0m \u001b[1;34m'death_valley_2014.csv'\u001b[0m\u001b[1;33m\u001b[0m\u001b[1;33m\u001b[0m\u001b[0m\n\u001b[0;32m     11\u001b[0m \u001b[1;33m\u001b[0m\u001b[0m\n\u001b[1;32m---> 12\u001b[1;33m \u001b[1;32mwith\u001b[0m \u001b[0mopen\u001b[0m\u001b[1;33m(\u001b[0m\u001b[0mfileone\u001b[0m\u001b[1;33m,\u001b[0m \u001b[0mfiletwo\u001b[0m\u001b[1;33m)\u001b[0m \u001b[1;32mas\u001b[0m \u001b[0mf\u001b[0m\u001b[1;33m:\u001b[0m\u001b[1;33m\u001b[0m\u001b[1;33m\u001b[0m\u001b[0m\n\u001b[0m\u001b[0;32m     13\u001b[0m     \u001b[0mreader\u001b[0m \u001b[1;33m=\u001b[0m \u001b[0mcsv\u001b[0m\u001b[1;33m.\u001b[0m\u001b[0mreader\u001b[0m\u001b[1;33m(\u001b[0m\u001b[0mf\u001b[0m\u001b[1;33m)\u001b[0m\u001b[1;33m\u001b[0m\u001b[1;33m\u001b[0m\u001b[0m\n\u001b[0;32m     14\u001b[0m     \u001b[0mheader_row\u001b[0m \u001b[1;33m=\u001b[0m \u001b[0mnext\u001b[0m\u001b[1;33m(\u001b[0m\u001b[0mreader\u001b[0m\u001b[1;33m)\u001b[0m\u001b[1;33m\u001b[0m\u001b[1;33m\u001b[0m\u001b[0m\n",
      "\u001b[1;31mValueError\u001b[0m: invalid mode: 'death_valley_2014.csv'"
     ]
    }
   ],
   "source": [
    "# Comparando as temperaturas MAX e MIN entre a região do Sitka e Vale da Morte\n",
    "\n",
    "import csv\n",
    "from datetime import datetime\n",
    "\n",
    "from matplotlib import pyplot as plt\n",
    "\n",
    "# Obtém as temperaturas MAX e MIN\n",
    "fileone = 'sitka_weather_2014.csv'\n",
    "filetwo = 'death_valley_2014.csv'\n",
    "\n",
    "with open(fileone) as f:\n",
    "    reader = csv.reader(f)\n",
    "    header_row = next(reader)\n",
    "    \n",
    "    dates, highs, lows = [], [], []\n",
    "    for row in reader:\n",
    "        try:\n",
    "            current_date = datetime.strptime(row[0], \"%Y-%m-%d\")\n",
    "            high = int(row[1])\n",
    "            low = int(row[3])\n",
    "        except ValueError:\n",
    "            print(current_date, 'missing data')\n",
    "        else:\n",
    "            dates.append(current_date)\n",
    "            highs.append(high)\n",
    "            lows.append(low)\n",
    "\n",
    "\n",
    "# Faz plotagem dos dados.\n",
    "fig = plt.figure(dpi=100, figsize=(12,8))\n",
    "plt.plot(dates, highs, c='red', alpha=0.5)\n",
    "plt.plot(dates, highs, c='blue', alpha=0.5)\n",
    "plt.fill_between(dates, highs, highs, facecolor='blue', alpha=0.1)\n",
    "\n",
    "\n",
    "# Formata o gráfico.\n",
    "title = \"Comparison between Sitka Weather and Death Valley \\n- MAX temperature -\"\n",
    "plt.title(title, fontsize=20)\n",
    "plt.xlabel('', fontsize=16)\n",
    "fig.autofmt_xdate()\n",
    "plt.ylabel(\"Temperature (F)\", fontsize=16)\n",
    "plt.tick_params(axis='both', which='major', labelsize=16)\n",
    "\n",
    "plt.show()"
   ]
  },
  {
   "cell_type": "code",
   "execution_count": null,
   "metadata": {},
   "outputs": [],
   "source": []
  }
 ],
 "metadata": {
  "kernelspec": {
   "display_name": "Python 3",
   "language": "python",
   "name": "python3"
  },
  "language_info": {
   "codemirror_mode": {
    "name": "ipython",
    "version": 3
   },
   "file_extension": ".py",
   "mimetype": "text/x-python",
   "name": "python",
   "nbconvert_exporter": "python",
   "pygments_lexer": "ipython3",
   "version": "3.8.5-final"
  }
 },
 "nbformat": 4,
 "nbformat_minor": 4
}